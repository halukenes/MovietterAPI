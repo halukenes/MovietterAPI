{
 "cells": [
  {
   "cell_type": "code",
   "execution_count": 1,
   "metadata": {},
   "outputs": [],
   "source": [
    "import nltk\n",
    "from nltk import sent_tokenize, word_tokenize\n",
    "from nltk.stem.wordnet import WordNetLemmatizer\n",
    "from nltk.corpus import stopwords\n",
    "import pandas as pd\n",
    "import numpy as np\n",
    "import re\n",
    "\n",
    "dataset_path = \"../moviereviews/family/tt1865505_reviews.csv\"\n",
    "\n",
    "reviews = pd.read_csv(dataset_path,encoding = 'utf-8')"
   ]
  },
  {
   "cell_type": "code",
   "execution_count": 2,
   "metadata": {},
   "outputs": [
    {
     "name": "stderr",
     "output_type": "stream",
     "text": [
      "Warming up PyWSD (takes ~10 secs)... took 10.532537698745728 secs.\n"
     ]
    }
   ],
   "source": [
    "from nltk.corpus import stopwords\n",
    "from pywsd.utils import lemmatize\n",
    "stop_words = set(stopwords.words('english'))\n",
    "\n",
    "def preprocess(text):\n",
    "    new_text = re.sub('<.*?>', '', text)   # remove HTML tags\n",
    "    new_text = re.sub(r'[^\\w\\s]', '', new_text) # remove punc.\n",
    "    new_text = re.sub(r'\\d+','',new_text) # remove numbers\n",
    "    new_text = new_text.lower() # lower case, .upper() for upper\n",
    "    return new_text\n",
    "\n",
    "def tokenization_w(texts):\n",
    "    tokenized_texts = []\n",
    "    for text in texts:\n",
    "        w_token = word_tokenize(text)\n",
    "        filtered_sentence = [w for w in w_token if not w in stop_words]\n",
    "        tokenized_texts.append(filtered_sentence)\n",
    "    return tokenized_texts\n",
    "\n",
    "def lemmatization(stem_array):\n",
    "    lemmatized = []\n",
    "    for stems in stem_array:\n",
    "        lemmas = [lemmatize(x) for x in stems]\n",
    "        lemmatized.append(lemmas)\n",
    "    return lemmatized"
   ]
  },
  {
   "cell_type": "code",
   "execution_count": 3,
   "metadata": {},
   "outputs": [],
   "source": [
    "reviews['Reviews'] = reviews['Reviews'].apply(preprocess)\n",
    "\n",
    "tokens = tokenization_w(reviews['Reviews'])\n",
    "\n",
    "#stemmed = stemming(tokens)\n",
    "\n",
    "lemmatized_data = lemmatization(tokens)\n",
    "\n",
    "processed_data = [' '.join(list) for list in lemmatized_data]"
   ]
  },
  {
   "cell_type": "code",
   "execution_count": 4,
   "metadata": {},
   "outputs": [],
   "source": [
    "from sklearn.feature_extraction.text import CountVectorizer, TfidfVectorizer\n",
    "\n",
    "count_vectorizer = CountVectorizer(stop_words='english')\n",
    "count_data = count_vectorizer.fit_transform(processed_data)\n",
    "\n",
    "vectorizer = TfidfVectorizer(min_df=1,stop_words='english')\n",
    "tfidf_data = vectorizer.fit_transform(processed_data)"
   ]
  },
  {
   "cell_type": "code",
   "execution_count": 6,
   "metadata": {},
   "outputs": [
    {
     "data": {
      "image/png": "[encoded data removed]",
      "text/plain": [
       "<Figure size 432x288 with 1 Axes>"
      ]
     },
     "metadata": {
      "needs_background": "light"
     },
     "output_type": "display_data"
    }
   ],
   "source": [
    "from sklearn.decomposition import LatentDirichletAllocation as LDA\n",
    "from matplotlib import pyplot as plt\n",
    "\n",
    "perp_scores = []\n",
    "increment_by = 1\n",
    "max_topic = 6\n",
    "alpha = 0.1\n",
    "beta = 0.1\n",
    "max_iteration = 10\n",
    "l_method = 'online'\n",
    "for i in range(1, max_topic):\n",
    "    n_topics = increment_by * i\n",
    "    lda = LDA(n_components=n_topics,\n",
    "              n_jobs=-1,\n",
    "              learning_method= l_method,\n",
    "              doc_topic_prior= alpha,\n",
    "              topic_word_prior= beta,\n",
    "              max_iter= max_iteration\n",
    "             )\n",
    "    lda.fit(count_data)\n",
    "    perplexity = lda.perplexity(count_data)\n",
    "    perp_scores.append(perplexity)\n",
    "\n",
    "np_scores = np.array(perp_scores)\n",
    "\n",
    "x_base = np.arange(1,max_topic) \n",
    "x = increment_by * x_base\n",
    "\n",
    "perp_scores_tf = []\n",
    "for i in range(1, max_topic):\n",
    "    n_topics = increment_by * i\n",
    "    lda = LDA(n_components=n_topics,\n",
    "              n_jobs=-1,\n",
    "              learning_method= l_method,\n",
    "              doc_topic_prior = alpha,\n",
    "              topic_word_prior = beta,\n",
    "              max_iter=max_iteration\n",
    "             )\n",
    "    lda.fit(tfidf_data)\n",
    "    perplexity = lda.perplexity(tfidf_data)\n",
    "    perp_scores_tf.append(perplexity)\n",
    "\n",
    "np_scores_tf = np.array(perp_scores_tf)\n",
    "\n",
    "x_base_tf = np.arange(1,max_topic) \n",
    "x_tf = increment_by * x_base\n",
    "plt.title(\"Perplexity Score\") \n",
    "plt.xlabel(\"Number of Topics\") \n",
    "plt.ylabel(\"Perplexity\") \n",
    "plt.plot(x, np_scores)\n",
    "plt.plot(x_tf, np_scores_tf)\n",
    "plt.show()"
   ]
  },
  {
   "cell_type": "code",
   "execution_count": null,
   "metadata": {},
   "outputs": [],
   "source": []
  },
  {
   "cell_type": "code",
   "execution_count": null,
   "metadata": {},
   "outputs": [],
   "source": []
  }
 ],
 "metadata": {
  "kernelspec": {
   "display_name": "Python 3",
   "language": "python",
   "name": "python3"
  },
  "language_info": {
   "codemirror_mode": {
    "name": "ipython",
    "version": 3
   },
   "file_extension": ".py",
   "mimetype": "text/x-python",
   "name": "python",
   "nbconvert_exporter": "python",
   "pygments_lexer": "ipython3",
   "version": "3.7.4"
  }
 },
 "nbformat": 4,
 "nbformat_minor": 2
}
